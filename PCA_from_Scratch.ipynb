{
  "nbformat": 4,
  "nbformat_minor": 0,
  "metadata": {
    "colab": {
      "provenance": [],
      "authorship_tag": "ABX9TyPRT50oEbIlSTmH7S2qM11D",
      "include_colab_link": true
    },
    "kernelspec": {
      "name": "python3",
      "display_name": "Python 3"
    },
    "language_info": {
      "name": "python"
    }
  },
  "cells": [
    {
      "cell_type": "markdown",
      "metadata": {
        "id": "view-in-github",
        "colab_type": "text"
      },
      "source": [
        "<a href=\"https://colab.research.google.com/github/VinayKumarReddy4549/Complete-Python-3-Bootcamp-/blob/master/PCA_from_Scratch.ipynb\" target=\"_parent\"><img src=\"https://colab.research.google.com/assets/colab-badge.svg\" alt=\"Open In Colab\"/></a>"
      ]
    },
    {
      "cell_type": "markdown",
      "source": [
        "# Concepts :\n",
        "\n",
        "##* PCA = Principal Component Analysis.\n",
        "\n",
        "##* Goal: find directions in your data with maximum variance.\n",
        "\n",
        "##* These directions (principal components) help reduce dimensionality or visualize patterns.\n",
        "\n",
        "## Mathematically:\n",
        "\n",
        "##1. Center data: subtract mean\n",
        "\n",
        "##2. Compute covariance matrix\n",
        "\n",
        "##3. Find eigenvectors & eigenvalues of covariance\n",
        "\n",
        "##4. Sort eigenvectors by largest eigenvalues → principal components\n",
        "\n",
        "##5. Project data onto these components"
      ],
      "metadata": {
        "id": "Wf-2fB7Hukkh"
      }
    },
    {
      "cell_type": "markdown",
      "source": [
        "# Step-by-Step Implementation :\n",
        "\n",
        "## Step 1: Import libraries"
      ],
      "metadata": {
        "id": "_rK78iqgvzb4"
      }
    },
    {
      "cell_type": "code",
      "execution_count": null,
      "metadata": {
        "id": "y4aYmjqmxXOH"
      },
      "outputs": [],
      "source": [
        "import numpy as np\n",
        "import matplotlib.pyplot as plt\n"
      ]
    },
    {
      "cell_type": "markdown",
      "source": [
        "# Step 2 : Create a simple dataset"
      ],
      "metadata": {
        "id": "kW4yw75cwLp5"
      }
    },
    {
      "cell_type": "code",
      "source": [
        "X = np.array([\n",
        "    [2.5, 2.4],\n",
        "    [0.5, 0.7],\n",
        "    [2.2, 2.9],\n",
        "    [1.9, 2.2],\n",
        "    [3.1, 3.0],\n",
        "    [2.3, 2.7],\n",
        "    [2, 1.6],\n",
        "    [1, 1.1],\n",
        "    [1.5, 1.6],\n",
        "    [1.1, 0.9]\n",
        "])\n"
      ],
      "metadata": {
        "id": "yu2HdQt_xjAN"
      },
      "execution_count": null,
      "outputs": []
    },
    {
      "cell_type": "markdown",
      "source": [
        "# Step 3 : Center the data"
      ],
      "metadata": {
        "id": "IfmwO4EKwf8H"
      }
    },
    {
      "cell_type": "code",
      "source": [
        "X_meaned = X - np.mean(X, axis=0)\n"
      ],
      "metadata": {
        "id": "Q_tXoyA1xjO5"
      },
      "execution_count": null,
      "outputs": []
    },
    {
      "cell_type": "markdown",
      "source": [
        "# Step 4 : Compute covariance matrix"
      ],
      "metadata": {
        "id": "FT5p2zK_wgZV"
      }
    },
    {
      "cell_type": "code",
      "source": [
        "cov_matrix = np.cov(X_meaned, rowvar=False)\n"
      ],
      "metadata": {
        "id": "wMx3PxLhxja8"
      },
      "execution_count": null,
      "outputs": []
    },
    {
      "cell_type": "markdown",
      "source": [
        "# Step 5 : Eigen decomposition"
      ],
      "metadata": {
        "id": "DIbYtKd-wgyr"
      }
    },
    {
      "cell_type": "code",
      "source": [
        "eigvals, eigvecs = np.linalg.eig(cov_matrix)\n"
      ],
      "metadata": {
        "id": "i6gBGibSxwan"
      },
      "execution_count": null,
      "outputs": []
    },
    {
      "cell_type": "markdown",
      "source": [
        "# Step 6 : Sort eigenvectors"
      ],
      "metadata": {
        "id": "788P_De9w1lf"
      }
    },
    {
      "cell_type": "code",
      "source": [
        "idxs = np.argsort(eigvals)[::-1]\n",
        "eigvecs = eigvecs[:, idxs]\n"
      ],
      "metadata": {
        "id": "x2DXlf4VxwdT"
      },
      "execution_count": null,
      "outputs": []
    },
    {
      "cell_type": "markdown",
      "source": [
        "# Step 7 : Project onto first PC"
      ],
      "metadata": {
        "id": "Rf5TC7X6w6SN"
      }
    },
    {
      "cell_type": "code",
      "source": [
        "pc1 = eigvecs[:, 0]\n",
        "X_pca = X_meaned @ pc1\n"
      ],
      "metadata": {
        "id": "uj9Ukx1kxwgG"
      },
      "execution_count": null,
      "outputs": []
    },
    {
      "cell_type": "markdown",
      "source": [
        "# Step 8: Plot dataset and PC"
      ],
      "metadata": {
        "id": "LJzUzHndw9HF"
      }
    },
    {
      "cell_type": "code",
      "source": [
        "plt.figure(figsize=(6,6))\n",
        "plt.scatter(X[:,0], X[:,1], color=\"blue\", label=\"Original Data\")\n",
        "for i in range(len(X)):\n",
        "    plt.plot([np.mean(X[:,0]), X[i,0]], [np.mean(X[:,1]), X[i,1]], \"r--\", alpha=0.3)\n",
        "\n",
        "plt.quiver(np.mean(X[:,0]), np.mean(X[:,1]),\n",
        "           pc1[0]*eigvals[0], pc1[1]*eigvals[0],\n",
        "           angles=\"xy\", scale_units=\"xy\", scale=1, color=\"green\", width=0.005, label=\"PC1\")\n",
        "\n",
        "plt.title(\"PCA from Scratch\\nBlue=data, Green=Principal Component\")\n",
        "plt.legend()\n",
        "plt.axis(\"equal\")\n",
        "plt.grid(True)\n",
        "plt.show()\n"
      ],
      "metadata": {
        "colab": {
          "base_uri": "https://localhost:8080/",
          "height": 565
        },
        "id": "Pw1JVvE7xwjv",
        "outputId": "5b3b2574-7f06-43b8-ee37-f0d764634ea6"
      },
      "execution_count": null,
      "outputs": [
        {
          "output_type": "display_data",
          "data": {
            "text/plain": [
              "<Figure size 600x600 with 1 Axes>"
            ],
            "image/png": "[encoded data removed]"
          },
          "metadata": {}
        }
      ]
    },
    {
      "cell_type": "markdown",
      "source": [
        "### Blue → dataset\n",
        "\n",
        "###Red dashed → projection lines onto PC1\n",
        "\n",
        "###Green → first principal component"
      ],
      "metadata": {
        "id": "k9NgjCzWxSdZ"
      }
    }
  ]
}